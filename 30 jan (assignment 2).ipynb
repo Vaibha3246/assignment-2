{
 "cells": [
  {
   "cell_type": "code",
   "execution_count": 1,
   "id": "ca8355ac-8be1-44ad-aeee-b10fb720b331",
   "metadata": {},
   "outputs": [],
   "source": [
    "# 30 JANUARY (ASSIGNMENT 2)"
   ]
  },
  {
   "cell_type": "code",
   "execution_count": 2,
   "id": "0b9a5871-d2d6-4b5d-9212-1e042b0876a3",
   "metadata": {},
   "outputs": [
    {
     "name": "stdin",
     "output_type": "stream",
     "text": [
      "enter the marks 50\n"
     ]
    },
    {
     "name": "stdout",
     "output_type": "stream",
     "text": [
      "grade D\n"
     ]
    }
   ],
   "source": [
    "# QUESTION 1 : WRITE A PROGRAM TO ACCEPT PERCENTAGE FROM THE USER AND DISPLAY THE GRADE ACCORDING TO THE FOLLWING CRITERIA :\n",
    "\n",
    "marks=int(input(\"enter the marks\"))\n",
    "if marks > 90:\n",
    "    print(\"grade A \")\n",
    "elif marks>80 and marks<=90:\n",
    "    print(\"grade B\")\n",
    "elif marks>=60 and marks<=80:\n",
    "    print(\"grade C\")\n",
    "else :\n",
    "    print(\"grade D\")"
   ]
  },
  {
   "cell_type": "code",
   "execution_count": 4,
   "id": "18329eb3-c6e5-435a-b6c3-a623873173ca",
   "metadata": {},
   "outputs": [
    {
     "name": "stdin",
     "output_type": "stream",
     "text": [
      "enter the cost price of bike 90000\n"
     ]
    },
    {
     "name": "stdout",
     "output_type": "stream",
     "text": [
      "the tax is :  13500.0\n"
     ]
    }
   ],
   "source": [
    "#  question 2 : write a program to accept the cost price of a bike and display the road tax to be paid according to the following criteria .\n",
    "\n",
    "bike_price = int(input(\"enter the cost price of bike\"))\n",
    "if bike_price > 10000:\n",
    "    tax = 15/100 *(bike_price)\n",
    "elif bike_price >50000 and bike_price<=100000:\n",
    "    tax= 10/100 *(bike_price)\n",
    "else:\n",
    "    tax =  5/100 * (bike_price)\n",
    "print(\"the tax is : \" , tax)    "
   ]
  },
  {
   "cell_type": "code",
   "execution_count": 17,
   "id": "bc89e671-978b-4124-90f1-a834143eb04e",
   "metadata": {},
   "outputs": [
    {
     "name": "stdin",
     "output_type": "stream",
     "text": [
      "enter the city name  delhi\n"
     ]
    },
    {
     "name": "stdout",
     "output_type": "stream",
     "text": [
      "red fort\n"
     ]
    }
   ],
   "source": [
    "# question 3: accept any city from the user and display monuments of that city .\n",
    "\n",
    "city=input(\"enter the city name \")\n",
    "if city == \"delhi\":\n",
    "    print(\"red fort\")\n",
    "elif city == \"agra\":\n",
    "    print(\"taj mahal\")\n",
    "elif city == \"jaipur\":\n",
    "    print(\"jal mahal\")\n",
    "else :\n",
    "    print(\"sorry your city is not present in our list\")"
   ]
  },
  {
   "cell_type": "code",
   "execution_count": 3,
   "id": "c95f9ba3-0732-489f-845b-6e19a62f802f",
   "metadata": {},
   "outputs": [
    {
     "name": "stdin",
     "output_type": "stream",
     "text": [
      "enter the number 15\n"
     ]
    },
    {
     "name": "stdout",
     "output_type": "stream",
     "text": [
      "the count is : 1\n"
     ]
    }
   ],
   "source": [
    "# question 4 : check how many times a given number can be divided by 3 before it is less than or equal to 10:\n",
    "number = int(input(\"enter the number\"))\n",
    "count = 0 \n",
    "while number >10:\n",
    "    number= number//3\n",
    "    count=count+1\n",
    "print(\"the count is :\", count)"
   ]
  },
  {
   "cell_type": "code",
   "execution_count": 5,
   "id": "4def2da3-65f7-4c7e-a96f-18e8ec6f17d3",
   "metadata": {},
   "outputs": [
    {
     "name": "stdout",
     "output_type": "stream",
     "text": [
      "0 1 2 3 4 "
     ]
    }
   ],
   "source": [
    "# queston 5: why and when to use while loop in python give a detailed description with example,\n",
    "# Ans: You should use a while loop when you need to repeatedly execute a block of code as long as a certain condition is true. A while loop is useful when you do not know beforehand how many times you need to iterate, or when the number of iterations depends on some changing conditions.\n",
    "\n",
    "count = 0\n",
    "while count < 5:\n",
    "    print(count,end = \" \")\n",
    "    count += 1"
   ]
  },
  {
   "cell_type": "code",
   "execution_count": 6,
   "id": "200c463c-44fe-4202-bb12-6e0034ef4d4b",
   "metadata": {},
   "outputs": [
    {
     "name": "stdin",
     "output_type": "stream",
     "text": [
      "enter the number of rows 6\n"
     ]
    },
    {
     "name": "stdout",
     "output_type": "stream",
     "text": [
      "*  \n",
      "*  *  \n",
      "*  *  *  \n",
      "*  *  *  *  \n",
      "*  *  *  *  *  \n",
      "*  *  *  *  *  *  \n"
     ]
    }
   ],
   "source": [
    "# question 6:  use nested while loop to print 3 different pattern.\n",
    "# pattern 1 (right angle triangle shape)\n",
    "\n",
    "n=int(input(\"enter the number of rows\"))\n",
    "i=1\n",
    "while i<=n:\n",
    "    j=1\n",
    "    while j<=i:\n",
    "        print(\"*\", end = \"  \")\n",
    "        j=j+1\n",
    "    print()\n",
    "    i=i+1"
   ]
  },
  {
   "cell_type": "code",
   "execution_count": 7,
   "id": "b1709e3e-dd32-4697-8fdf-6f69211e1075",
   "metadata": {},
   "outputs": [
    {
     "name": "stdin",
     "output_type": "stream",
     "text": [
      "enter the number of rows  5\n"
     ]
    },
    {
     "name": "stdout",
     "output_type": "stream",
     "text": [
      "*  *  *  *  *  \n",
      "*  *  *  *  \n",
      "*  *  *  \n",
      "*  *  \n",
      "*  \n"
     ]
    }
   ],
   "source": [
    "# pattern 2 : \n",
    " \n",
    "n=int(input(\"enter the number of rows \"))\n",
    "i=1\n",
    "while i<=n:\n",
    "    j=n\n",
    "    while j>=i:\n",
    "        print('*' , end = '  ')\n",
    "        j=j-1\n",
    "    print()\n",
    "    i=i+1"
   ]
  },
  {
   "cell_type": "code",
   "execution_count": 8,
   "id": "95631856-a3ab-433b-8fef-db61a3d9858f",
   "metadata": {},
   "outputs": [
    {
     "name": "stdin",
     "output_type": "stream",
     "text": [
      "enter the number of rows 5\n"
     ]
    },
    {
     "name": "stdout",
     "output_type": "stream",
     "text": [
      "1 \n",
      "2 3 \n",
      "4 5 6 \n",
      "7 8 9 10 \n",
      "11 12 13 14 15 \n"
     ]
    }
   ],
   "source": [
    "# pattern 3\n",
    "n =int(input(\"enter the number of rows\"))\n",
    "i=1\n",
    "k=1\n",
    "while i<=n:\n",
    "    j=1\n",
    "    while j<=i:\n",
    "        print(k, end=' ')\n",
    "        k=k+1\n",
    "        j=j+1\n",
    "    print()   \n",
    "    i=i+1"
   ]
  },
  {
   "cell_type": "code",
   "execution_count": 9,
   "id": "be70ffdc-f16c-47ca-bed5-bd54379e34c4",
   "metadata": {},
   "outputs": [
    {
     "name": "stdout",
     "output_type": "stream",
     "text": [
      "10 9 8 7 6 5 4 3 2 1 "
     ]
    }
   ],
   "source": [
    " # question 7: Reverse a while loop to display a number from 10 to 1.\n",
    "\n",
    "n=10 \n",
    "while n>0:\n",
    "    print(n, end=' ')\n",
    "    n=n-1"
   ]
  },
  {
   "cell_type": "code",
   "execution_count": null,
   "id": "17eff6f5-6c75-4481-96cc-bb3fb1131b20",
   "metadata": {},
   "outputs": [],
   "source": []
  }
 ],
 "metadata": {
  "kernelspec": {
   "display_name": "Python 3 (ipykernel)",
   "language": "python",
   "name": "python3"
  },
  "language_info": {
   "codemirror_mode": {
    "name": "ipython",
    "version": 3
   },
   "file_extension": ".py",
   "mimetype": "text/x-python",
   "name": "python",
   "nbconvert_exporter": "python",
   "pygments_lexer": "ipython3",
   "version": "3.10.6"
  }
 },
 "nbformat": 4,
 "nbformat_minor": 5
}
